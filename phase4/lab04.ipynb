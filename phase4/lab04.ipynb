{
 "cells": [
  {
   "cell_type": "markdown",
   "id": "0f54b2f4-28c2-4a82-a3e9-72b5bc6922b4",
   "metadata": {},
   "source": [
    "# Индивиуальное задание"
   ]
  },
  {
   "cell_type": "markdown",
   "id": "a94a68e6-e6e1-4eaf-b1c3-f58c83ae183d",
   "metadata": {},
   "source": [
    "## Этап  № 4. Исследование моделей размещения пользователей и распространения сигнала"
   ]
  },
  {
   "cell_type": "markdown",
   "id": "f7b4791f-52b5-479b-8437-a645132c12d0",
   "metadata": {},
   "source": [
    "_Выполнил_ студент 2 курса<br>\n",
    "учебной группы НММ-02-22<br>\n",
    "Мулин Иван"
   ]
  },
  {
   "cell_type": "markdown",
   "id": "c93ec6ff-9747-4744-b2b0-29400bca5dc0",
   "metadata": {},
   "source": [
    "### Цели\n"
   ]
  },
  {
   "cell_type": "markdown",
   "id": "a0728d16-ed24-4ebd-bc9c-a1b1cf9ba00c",
   "metadata": {
    "editable": true,
    "slideshow": {
     "slide_type": ""
    },
    "tags": []
   },
   "source": [
    "### Задача\n",
    "Построить согласно описанному ниже алгоритму имитационную модель, позволяющую рассчитать вероятность блокировки линии прямой видимости, и сравнить полученную характеристику с результатами математической модели.\n",
    "1. В квадратной области со стороной А согласно точечному Пуассоновскому процессу с плотностью q разместить объекты (окружности с фиксированным радиусом r), которые могут заблокировать линию прямой видимости между двумя точками, размещенными на расстоянии x друг от друга внутри обозначенной области. Проверить блокирует ли хотя бы один объект линию прямой видимости.\n",
    "2. Количество блокирующих объектов определяется согласно распределению Пуассона с параметром qA2, а объекты вбрасываются независимо друг от друга. При этом центры блокирующих объектов должны быть распределены равномерно внутри рассматриваемой области.\n",
    "3. На основе описанного выше алгоритма получить 1000 реализаций факта блокировки линии прямой видимости и рассчитать вероятность блокировки линии прямой видимости в поле блокирующих объектов. Полученный результат сравнить с результатами математической модели"
   ]
  },
  {
   "cell_type": "markdown",
   "id": "2c9f44c1-5d31-4ea4-8be6-41df2e3f4d04",
   "metadata": {},
   "source": [
    "### Ход работы"
   ]
  },
  {
   "cell_type": "markdown",
   "id": "af77014b-8d25-47a8-96dd-83709f9dfd81",
   "metadata": {},
   "source": [
    "Подключаем библиотеки `numpy` и `matplotlib`."
   ]
  },
  {
   "cell_type": "code",
   "execution_count": 1,
   "id": "e8026742-be76-4078-be4e-cab7e815bba3",
   "metadata": {},
   "outputs": [],
   "source": [
    "import numpy as np\n",
    "import matplotlib.pyplot as plt\n",
    "import scipy.stats\n",
    "from numpy.linalg import norm\n",
    "from numpy import arcsin, arccos, dot, cross, pi"
   ]
  },
  {
   "cell_type": "code",
   "execution_count": 24,
   "id": "940073d7-421c-499e-93b7-12ddc7fbe706",
   "metadata": {},
   "outputs": [],
   "source": [
    "SquareWidth = 10\n",
    "PoissonParameter = 0.2\n",
    "Radius = 0.3\n",
    "TRDistance = 4\n",
    "Points = np.array"
   ]
  },
  {
   "cell_type": "code",
   "execution_count": 25,
   "id": "fae3f89e-1567-47fd-8f06-f9cd055b2c59",
   "metadata": {},
   "outputs": [],
   "source": [
    "angles = np.linspace(0, 2 * pi, 80)"
   ]
  },
  {
   "cell_type": "code",
   "execution_count": 26,
   "id": "493f70b2-7f26-4fe8-a4f1-add7165646db",
   "metadata": {},
   "outputs": [],
   "source": [
    "def DrawCircle(x0, y0, r):\n",
    "    \"\"\"\n",
    "    Draws a circle on a plot.\n",
    "    \"\"\"\n",
    "    global angles\n",
    "    xs = x0 + r*np.cos(angles)\n",
    "    ys = y0 + r*np.sin(angles)\n",
    "    plt.plot(xs, ys, color = \"#eb3437\")"
   ]
  },
  {
   "cell_type": "code",
   "execution_count": 27,
   "id": "a9094a93-00d0-4e90-af29-644129c948fb",
   "metadata": {},
   "outputs": [],
   "source": [
    "def PoissonProcessInitializer(lam, area):\n",
    "    \"\"\"\n",
    "    Initializes Poisson process\n",
    "    \"\"\"\n",
    "    amount = np.random.poisson(lam * area**2)\n",
    "    x = np.random.uniform(0, area, size=amount)\n",
    "    y = np.random.uniform(0, area, size=amount)\n",
    "    return x, y"
   ]
  },
  {
   "cell_type": "code",
   "execution_count": 28,
   "id": "b65ee9b8-7822-4ffc-803a-1356b562c256",
   "metadata": {},
   "outputs": [],
   "source": [
    "def sign(x):\n",
    "    \" A mathematical sgn(x) \"\n",
    "    if x == 0:\n",
    "        return 0\n",
    "    return x/abs(x)"
   ]
  },
  {
   "cell_type": "code",
   "execution_count": 29,
   "id": "9c3e8731-d551-4984-977c-c9286a55160a",
   "metadata": {},
   "outputs": [],
   "source": [
    "def GetRectangleCoords(p1x, p1y, p2x, p2y):\n",
    "    \"\"\"\n",
    "    Calculates rectangle ABCD's coordinates\n",
    "    \"\"\"\n",
    "    global TRDistance, Radius\n",
    "    W = pi/2 - sign( arcsin((p2y-p1y)/TRDistance) ) * arccos((p2x-p1x)/TRDistance)\n",
    "    RC, RS = Radius*np.cos(W), Radius*np.sin(W)\n",
    "\n",
    "    Ax, Ay = p1x - RC, p1y + RS\n",
    "    Bx, By = p1x + RC, p1y - RS\n",
    "    Cx, Cy = p2x + RC, p2y - RS\n",
    "    Dx, Dy = p2x - RC, p2y + RS\n",
    "\n",
    "    return [Ax, Bx, Cx, Dx, Ax], [Ay, By, Cy, Dy, Ay]"
   ]
  },
  {
   "cell_type": "code",
   "execution_count": 30,
   "id": "329ae3d1-ba5c-4fe5-9ff0-2607a3beece7",
   "metadata": {},
   "outputs": [],
   "source": [
    "W = 0.3\n",
    "p1x, p1y = 1, 1\n",
    "p2x, p2y = p1x + TRDistance*np.cos(W), p1y + TRDistance*np.sin(W)\n",
    "\n",
    "Rectangle = np.array(GetRectangleCoords(p1x, p1y, p2x, p2y))"
   ]
  },
  {
   "cell_type": "code",
   "execution_count": 31,
   "id": "6b0e8743-5627-4a4e-851c-f402829e2e48",
   "metadata": {},
   "outputs": [
    {
     "data": {
      "image/png": "[encoded data removed]",
      "text/plain": [
       "<Figure size 600x600 with 1 Axes>"
      ]
     },
     "metadata": {},
     "output_type": "display_data"
    }
   ],
   "source": [
    "plt.figure(dpi=100, figsize=(6, 6))\n",
    "\n",
    "plt.plot(Rectangle[0], Rectangle[1], color=\"#ebcc34\")\n",
    "plt.fill(Rectangle[0], Rectangle[1], color=\"#f5e8a9\")\n",
    "plt.plot((p1x, p2x), (p1y, p2y), marker=\".\", color=\"#34eb4f\", linestyle=\"dashed\")\n",
    "\n",
    "plt.xlim(0, SquareWidth)\n",
    "plt.ylim(0, SquareWidth)\n",
    "plt.show()"
   ]
  },
  {
   "cell_type": "code",
   "execution_count": null,
   "id": "df8cdadb-c75e-4433-bff1-26822e118464",
   "metadata": {},
   "outputs": [],
   "source": []
  }
 ],
 "metadata": {
  "kernelspec": {
   "display_name": "Python 3 (ipykernel)",
   "language": "python",
   "name": "python3"
  },
  "language_info": {
   "codemirror_mode": {
    "name": "ipython",
    "version": 3
   },
   "file_extension": ".py",
   "mimetype": "text/x-python",
   "name": "python",
   "nbconvert_exporter": "python",
   "pygments_lexer": "ipython3",
   "version": "3.11.5"
  }
 },
 "nbformat": 4,
 "nbformat_minor": 5
}
